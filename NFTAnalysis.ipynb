{
  "cells": [
    {
      "cell_type": "code",
      "execution_count": null,
      "metadata": {
        "colab": {
          "base_uri": "https://localhost:8080/"
        },
        "id": "4cQrv9KLxLZS",
        "outputId": "b2286d03-1b7e-464a-8609-743d6ff052bf"
      },
      "outputs": [
        {
          "output_type": "stream",
          "name": "stdout",
          "text": [
            "Looking in indexes: https://pypi.org/simple, https://us-python.pkg.dev/colab-wheels/public/simple/\n",
            "Requirement already satisfied: moralis in /usr/local/lib/python3.8/dist-packages (0.1.10)\n",
            "Requirement already satisfied: gradio in /usr/local/lib/python3.8/dist-packages (3.14.0)\n",
            "Requirement already satisfied: certifi>=14.5.14 in /usr/local/lib/python3.8/dist-packages (from moralis) (2022.12.7)\n",
            "Requirement already satisfied: typing-extensions~=4.3.0 in /usr/local/lib/python3.8/dist-packages (from moralis) (4.3.0)\n",
            "Requirement already satisfied: frozendict~=2.3.4 in /usr/local/lib/python3.8/dist-packages (from moralis) (2.3.4)\n",
            "Requirement already satisfied: python-dateutil~=2.7.0 in /usr/local/lib/python3.8/dist-packages (from moralis) (2.7.5)\n",
            "Requirement already satisfied: urllib3~=1.26.7 in /usr/local/lib/python3.8/dist-packages (from moralis) (1.26.13)\n",
            "Requirement already satisfied: six>=1.5 in /usr/local/lib/python3.8/dist-packages (from python-dateutil~=2.7.0->moralis) (1.15.0)\n",
            "Requirement already satisfied: aiohttp in /usr/local/lib/python3.8/dist-packages (from gradio) (3.8.3)\n",
            "Requirement already satisfied: pydub in /usr/local/lib/python3.8/dist-packages (from gradio) (0.25.1)\n",
            "Requirement already satisfied: pydantic in /usr/local/lib/python3.8/dist-packages (from gradio) (1.10.2)\n",
            "Requirement already satisfied: numpy in /usr/local/lib/python3.8/dist-packages (from gradio) (1.21.6)\n",
            "Requirement already satisfied: ffmpy in /usr/local/lib/python3.8/dist-packages (from gradio) (0.3.0)\n",
            "Requirement already satisfied: orjson in /usr/local/lib/python3.8/dist-packages (from gradio) (3.8.3)\n",
            "Requirement already satisfied: pandas in /usr/local/lib/python3.8/dist-packages (from gradio) (1.3.5)\n",
            "Requirement already satisfied: python-multipart in /usr/local/lib/python3.8/dist-packages (from gradio) (0.0.5)\n",
            "Requirement already satisfied: uvicorn in /usr/local/lib/python3.8/dist-packages (from gradio) (0.20.0)\n",
            "Requirement already satisfied: fastapi in /usr/local/lib/python3.8/dist-packages (from gradio) (0.88.0)\n",
            "Requirement already satisfied: fsspec in /usr/local/lib/python3.8/dist-packages (from gradio) (2022.11.0)\n",
            "Requirement already satisfied: markupsafe in /usr/local/lib/python3.8/dist-packages (from gradio) (2.0.1)\n",
            "Requirement already satisfied: pycryptodome in /usr/local/lib/python3.8/dist-packages (from gradio) (3.16.0)\n",
            "Requirement already satisfied: matplotlib in /usr/local/lib/python3.8/dist-packages (from gradio) (3.2.2)\n",
            "Requirement already satisfied: websockets>=10.0 in /usr/local/lib/python3.8/dist-packages (from gradio) (10.4)\n",
            "Requirement already satisfied: httpx in /usr/local/lib/python3.8/dist-packages (from gradio) (0.23.1)\n",
            "Requirement already satisfied: jinja2 in /usr/local/lib/python3.8/dist-packages (from gradio) (2.11.3)\n",
            "Requirement already satisfied: pyyaml in /usr/local/lib/python3.8/dist-packages (from gradio) (6.0)\n",
            "Requirement already satisfied: altair in /usr/local/lib/python3.8/dist-packages (from gradio) (4.2.0)\n",
            "Requirement already satisfied: markdown-it-py[linkify,plugins] in /usr/local/lib/python3.8/dist-packages (from gradio) (2.1.0)\n",
            "Requirement already satisfied: pillow in /usr/local/lib/python3.8/dist-packages (from gradio) (7.1.2)\n",
            "Requirement already satisfied: requests in /usr/local/lib/python3.8/dist-packages (from gradio) (2.28.1)\n",
            "Requirement already satisfied: async-timeout<5.0,>=4.0.0a3 in /usr/local/lib/python3.8/dist-packages (from aiohttp->gradio) (4.0.2)\n",
            "Requirement already satisfied: aiosignal>=1.1.2 in /usr/local/lib/python3.8/dist-packages (from aiohttp->gradio) (1.3.1)\n",
            "Requirement already satisfied: frozenlist>=1.1.1 in /usr/local/lib/python3.8/dist-packages (from aiohttp->gradio) (1.3.3)\n",
            "Requirement already satisfied: charset-normalizer<3.0,>=2.0 in /usr/local/lib/python3.8/dist-packages (from aiohttp->gradio) (2.1.1)\n",
            "Requirement already satisfied: multidict<7.0,>=4.5 in /usr/local/lib/python3.8/dist-packages (from aiohttp->gradio) (6.0.3)\n",
            "Requirement already satisfied: yarl<2.0,>=1.0 in /usr/local/lib/python3.8/dist-packages (from aiohttp->gradio) (1.8.2)\n",
            "Requirement already satisfied: attrs>=17.3.0 in /usr/local/lib/python3.8/dist-packages (from aiohttp->gradio) (22.1.0)\n",
            "Requirement already satisfied: idna>=2.0 in /usr/local/lib/python3.8/dist-packages (from yarl<2.0,>=1.0->aiohttp->gradio) (2.10)\n",
            "Requirement already satisfied: jsonschema>=3.0 in /usr/local/lib/python3.8/dist-packages (from altair->gradio) (4.3.3)\n",
            "Requirement already satisfied: entrypoints in /usr/local/lib/python3.8/dist-packages (from altair->gradio) (0.4)\n",
            "Requirement already satisfied: toolz in /usr/local/lib/python3.8/dist-packages (from altair->gradio) (0.12.0)\n",
            "Requirement already satisfied: pyrsistent!=0.17.0,!=0.17.1,!=0.17.2,>=0.14.0 in /usr/local/lib/python3.8/dist-packages (from jsonschema>=3.0->altair->gradio) (0.19.2)\n",
            "Requirement already satisfied: importlib-resources>=1.4.0 in /usr/local/lib/python3.8/dist-packages (from jsonschema>=3.0->altair->gradio) (5.10.1)\n",
            "Requirement already satisfied: zipp>=3.1.0 in /usr/local/lib/python3.8/dist-packages (from importlib-resources>=1.4.0->jsonschema>=3.0->altair->gradio) (3.11.0)\n",
            "Requirement already satisfied: pytz>=2017.3 in /usr/local/lib/python3.8/dist-packages (from pandas->gradio) (2022.6)\n",
            "Requirement already satisfied: starlette==0.22.0 in /usr/local/lib/python3.8/dist-packages (from fastapi->gradio) (0.22.0)\n",
            "Requirement already satisfied: anyio<5,>=3.4.0 in /usr/local/lib/python3.8/dist-packages (from starlette==0.22.0->fastapi->gradio) (3.6.2)\n",
            "Requirement already satisfied: sniffio>=1.1 in /usr/local/lib/python3.8/dist-packages (from anyio<5,>=3.4.0->starlette==0.22.0->fastapi->gradio) (1.3.0)\n",
            "Requirement already satisfied: httpcore<0.17.0,>=0.15.0 in /usr/local/lib/python3.8/dist-packages (from httpx->gradio) (0.16.2)\n",
            "Requirement already satisfied: rfc3986[idna2008]<2,>=1.3 in /usr/local/lib/python3.8/dist-packages (from httpx->gradio) (1.5.0)\n",
            "Requirement already satisfied: h11<0.15,>=0.13 in /usr/local/lib/python3.8/dist-packages (from httpcore<0.17.0,>=0.15.0->httpx->gradio) (0.14.0)\n",
            "Requirement already satisfied: mdurl~=0.1 in /usr/local/lib/python3.8/dist-packages (from markdown-it-py[linkify,plugins]->gradio) (0.1.2)\n",
            "Requirement already satisfied: mdit-py-plugins in /usr/local/lib/python3.8/dist-packages (from markdown-it-py[linkify,plugins]->gradio) (0.3.3)\n",
            "Requirement already satisfied: linkify-it-py~=1.0 in /usr/local/lib/python3.8/dist-packages (from markdown-it-py[linkify,plugins]->gradio) (1.0.3)\n",
            "Requirement already satisfied: uc-micro-py in /usr/local/lib/python3.8/dist-packages (from linkify-it-py~=1.0->markdown-it-py[linkify,plugins]->gradio) (1.0.1)\n",
            "Requirement already satisfied: cycler>=0.10 in /usr/local/lib/python3.8/dist-packages (from matplotlib->gradio) (0.11.0)\n",
            "Requirement already satisfied: kiwisolver>=1.0.1 in /usr/local/lib/python3.8/dist-packages (from matplotlib->gradio) (1.4.4)\n",
            "Requirement already satisfied: pyparsing!=2.0.4,!=2.1.2,!=2.1.6,>=2.0.1 in /usr/local/lib/python3.8/dist-packages (from matplotlib->gradio) (3.0.9)\n",
            "Requirement already satisfied: click>=7.0 in /usr/local/lib/python3.8/dist-packages (from uvicorn->gradio) (7.1.2)\n"
          ]
        }
      ],
      "source": [
        "!pip install moralis gradio"
      ]
    },
    {
      "cell_type": "markdown",
      "source": [
        "###**Importing The Dependencies**"
      ],
      "metadata": {
        "id": "wQ7pbJsCL9_P"
      }
    },
    {
      "cell_type": "code",
      "execution_count": null,
      "metadata": {
        "id": "qFMu8mKLzsOt"
      },
      "outputs": [],
      "source": [
        "from moralis import evm_api\n",
        "import pandas as pd\n",
        "import numpy as np\n",
        "import gradio as gr\n",
        "import matplotlib.pyplot as plt\n",
        "import time\n",
        "import datetime"
      ]
    },
    {
      "cell_type": "markdown",
      "source": [
        "###**Requesting data from Moralis API**"
      ],
      "metadata": {
        "id": "usTUHrgBMJrc"
      }
    },
    {
      "cell_type": "code",
      "execution_count": null,
      "metadata": {
        "id": "aw0BEfFK0dPy"
      },
      "outputs": [],
      "source": [
        "api_key = \"--Please Enter Your API Key From The Moralis API--\""
      ]
    },
    {
      "cell_type": "code",
      "execution_count": null,
      "metadata": {
        "id": "HPI0G6mA3hrO"
      },
      "outputs": [],
      "source": [
        "result = evm_api.nft.get_nft_contract_transfers(api_key=api_key,params={    \"address\": \"0xb47e3cd837dDF8e4c57F05d70Ab865de6e193BBB\", \"chain\": \"eth\"} )"
      ]
    },
    {
      "cell_type": "code",
      "execution_count": null,
      "metadata": {
        "id": "HwAjRtHr33zL"
      },
      "outputs": [],
      "source": [
        "df = pd.json_normalize(result['result'])"
      ]
    },
    {
      "cell_type": "markdown",
      "source": [
        "###**Data Preprocessing**"
      ],
      "metadata": {
        "id": "0g4dOFpkMfsX"
      }
    },
    {
      "cell_type": "code",
      "execution_count": null,
      "metadata": {
        "colab": {
          "base_uri": "https://localhost:8080/",
          "height": 351
        },
        "id": "125YUd-k4xoI",
        "outputId": "0cface64-7470-426a-d43f-ec978df170ac"
      },
      "outputs": [
        {
          "output_type": "execute_result",
          "data": {
            "text/plain": [
              "  block_number           block_timestamp  \\\n",
              "0     16210162  2022-12-18T07:44:47.000Z   \n",
              "1     16208287  2022-12-18T01:26:47.000Z   \n",
              "2     16207816  2022-12-17T23:51:47.000Z   \n",
              "3     16205441  2022-12-17T15:54:11.000Z   \n",
              "4     16205427  2022-12-17T15:51:23.000Z   \n",
              "\n",
              "                                          block_hash  \\\n",
              "0  0x7983c618f6bc94a7b700ca7e84a7c97f4286e8e3377b...   \n",
              "1  0xc5f1bc4300eb1b6b9d39917eed3c7277b82c6ce9bce5...   \n",
              "2  0x02acaba8e50d92ce8d64a8caa942d73edb0a48653d18...   \n",
              "3  0x2d11c0210b08c21562f5ebb52e2550434bfaf847f46a...   \n",
              "4  0x0a8d7d0252240600e58f6d7327957d330ef24462a6ae...   \n",
              "\n",
              "                                    transaction_hash  transaction_index  \\\n",
              "0  0x2097c5220b4d3252c43bc28b65e843198df985d7c7b7...                116   \n",
              "1  0x7f78d3c807e73f8684b818af155dda52cd1a582c141b...                 73   \n",
              "2  0xc793fc35619ca9d969e03655e6c45c31429ae5d52aa0...                 63   \n",
              "3  0x1fcb134f0ef98910f652e5f2cca3946be119eae0957e...                 80   \n",
              "4  0xf1b50fdc8db4b10b0e902cc09bfcc8c36450342c1aff...                 93   \n",
              "\n",
              "   log_index                 value contract_type transaction_type  \\\n",
              "0        215  73000000000000000000          None           Single   \n",
              "1        227  67950000000000000000          None           Single   \n",
              "2        143                     0          None           Single   \n",
              "3        218                     0          None           Single   \n",
              "4        207  82500000000000000000          None           Single   \n",
              "\n",
              "                                token_address token_id  \\\n",
              "0  0xb47e3cd837ddf8e4c57f05d70ab865de6e193bbb     5335   \n",
              "1  0xb47e3cd837ddf8e4c57f05d70ab865de6e193bbb     8458   \n",
              "2  0xb47e3cd837ddf8e4c57f05d70ab865de6e193bbb     7386   \n",
              "3  0xb47e3cd837ddf8e4c57f05d70ab865de6e193bbb     8175   \n",
              "4  0xb47e3cd837ddf8e4c57f05d70ab865de6e193bbb     8175   \n",
              "\n",
              "                                 from_address  \\\n",
              "0  0x90a2da785f866affa9826895e37b721820b33073   \n",
              "1  0xf6e5d3fdaee3d38ba42b9b0b8c00eb1255ad6038   \n",
              "2  0xb7ef760f30d139097ba547bd6f0dfaecbf148452   \n",
              "3  0x6bb662ce293b3d0f20826f2059eb3df0c37a3450   \n",
              "4  0xb7ef760f30d139097ba547bd6f0dfaecbf148452   \n",
              "\n",
              "                                   to_address amount  verified operator  \n",
              "0  0x1919db36ca2fa2e15f9000fd9cdc2edcf863e685      1         1     None  \n",
              "1  0xb30b44dba76a6290e5bd8a29dabd6b9b28355fcf      1         1     None  \n",
              "2  0xcbbf0cef62fdafe2943726c08acff01680e4a49c      1         1     None  \n",
              "3  0xe0fa4a19c108eecb019d131cf952c028c4e7a014      1         1     None  \n",
              "4  0x6bb662ce293b3d0f20826f2059eb3df0c37a3450      1         1     None  "
            ],
            "text/html": [
              "\n",
              "  <div id=\"df-a6411ca7-3451-4b5b-95cb-349b86a13e2b\">\n",
              "    <div class=\"colab-df-container\">\n",
              "      <div>\n",
              "<style scoped>\n",
              "    .dataframe tbody tr th:only-of-type {\n",
              "        vertical-align: middle;\n",
              "    }\n",
              "\n",
              "    .dataframe tbody tr th {\n",
              "        vertical-align: top;\n",
              "    }\n",
              "\n",
              "    .dataframe thead th {\n",
              "        text-align: right;\n",
              "    }\n",
              "</style>\n",
              "<table border=\"1\" class=\"dataframe\">\n",
              "  <thead>\n",
              "    <tr style=\"text-align: right;\">\n",
              "      <th></th>\n",
              "      <th>block_number</th>\n",
              "      <th>block_timestamp</th>\n",
              "      <th>block_hash</th>\n",
              "      <th>transaction_hash</th>\n",
              "      <th>transaction_index</th>\n",
              "      <th>log_index</th>\n",
              "      <th>value</th>\n",
              "      <th>contract_type</th>\n",
              "      <th>transaction_type</th>\n",
              "      <th>token_address</th>\n",
              "      <th>token_id</th>\n",
              "      <th>from_address</th>\n",
              "      <th>to_address</th>\n",
              "      <th>amount</th>\n",
              "      <th>verified</th>\n",
              "      <th>operator</th>\n",
              "    </tr>\n",
              "  </thead>\n",
              "  <tbody>\n",
              "    <tr>\n",
              "      <th>0</th>\n",
              "      <td>16210162</td>\n",
              "      <td>2022-12-18T07:44:47.000Z</td>\n",
              "      <td>0x7983c618f6bc94a7b700ca7e84a7c97f4286e8e3377b...</td>\n",
              "      <td>0x2097c5220b4d3252c43bc28b65e843198df985d7c7b7...</td>\n",
              "      <td>116</td>\n",
              "      <td>215</td>\n",
              "      <td>73000000000000000000</td>\n",
              "      <td>None</td>\n",
              "      <td>Single</td>\n",
              "      <td>0xb47e3cd837ddf8e4c57f05d70ab865de6e193bbb</td>\n",
              "      <td>5335</td>\n",
              "      <td>0x90a2da785f866affa9826895e37b721820b33073</td>\n",
              "      <td>0x1919db36ca2fa2e15f9000fd9cdc2edcf863e685</td>\n",
              "      <td>1</td>\n",
              "      <td>1</td>\n",
              "      <td>None</td>\n",
              "    </tr>\n",
              "    <tr>\n",
              "      <th>1</th>\n",
              "      <td>16208287</td>\n",
              "      <td>2022-12-18T01:26:47.000Z</td>\n",
              "      <td>0xc5f1bc4300eb1b6b9d39917eed3c7277b82c6ce9bce5...</td>\n",
              "      <td>0x7f78d3c807e73f8684b818af155dda52cd1a582c141b...</td>\n",
              "      <td>73</td>\n",
              "      <td>227</td>\n",
              "      <td>67950000000000000000</td>\n",
              "      <td>None</td>\n",
              "      <td>Single</td>\n",
              "      <td>0xb47e3cd837ddf8e4c57f05d70ab865de6e193bbb</td>\n",
              "      <td>8458</td>\n",
              "      <td>0xf6e5d3fdaee3d38ba42b9b0b8c00eb1255ad6038</td>\n",
              "      <td>0xb30b44dba76a6290e5bd8a29dabd6b9b28355fcf</td>\n",
              "      <td>1</td>\n",
              "      <td>1</td>\n",
              "      <td>None</td>\n",
              "    </tr>\n",
              "    <tr>\n",
              "      <th>2</th>\n",
              "      <td>16207816</td>\n",
              "      <td>2022-12-17T23:51:47.000Z</td>\n",
              "      <td>0x02acaba8e50d92ce8d64a8caa942d73edb0a48653d18...</td>\n",
              "      <td>0xc793fc35619ca9d969e03655e6c45c31429ae5d52aa0...</td>\n",
              "      <td>63</td>\n",
              "      <td>143</td>\n",
              "      <td>0</td>\n",
              "      <td>None</td>\n",
              "      <td>Single</td>\n",
              "      <td>0xb47e3cd837ddf8e4c57f05d70ab865de6e193bbb</td>\n",
              "      <td>7386</td>\n",
              "      <td>0xb7ef760f30d139097ba547bd6f0dfaecbf148452</td>\n",
              "      <td>0xcbbf0cef62fdafe2943726c08acff01680e4a49c</td>\n",
              "      <td>1</td>\n",
              "      <td>1</td>\n",
              "      <td>None</td>\n",
              "    </tr>\n",
              "    <tr>\n",
              "      <th>3</th>\n",
              "      <td>16205441</td>\n",
              "      <td>2022-12-17T15:54:11.000Z</td>\n",
              "      <td>0x2d11c0210b08c21562f5ebb52e2550434bfaf847f46a...</td>\n",
              "      <td>0x1fcb134f0ef98910f652e5f2cca3946be119eae0957e...</td>\n",
              "      <td>80</td>\n",
              "      <td>218</td>\n",
              "      <td>0</td>\n",
              "      <td>None</td>\n",
              "      <td>Single</td>\n",
              "      <td>0xb47e3cd837ddf8e4c57f05d70ab865de6e193bbb</td>\n",
              "      <td>8175</td>\n",
              "      <td>0x6bb662ce293b3d0f20826f2059eb3df0c37a3450</td>\n",
              "      <td>0xe0fa4a19c108eecb019d131cf952c028c4e7a014</td>\n",
              "      <td>1</td>\n",
              "      <td>1</td>\n",
              "      <td>None</td>\n",
              "    </tr>\n",
              "    <tr>\n",
              "      <th>4</th>\n",
              "      <td>16205427</td>\n",
              "      <td>2022-12-17T15:51:23.000Z</td>\n",
              "      <td>0x0a8d7d0252240600e58f6d7327957d330ef24462a6ae...</td>\n",
              "      <td>0xf1b50fdc8db4b10b0e902cc09bfcc8c36450342c1aff...</td>\n",
              "      <td>93</td>\n",
              "      <td>207</td>\n",
              "      <td>82500000000000000000</td>\n",
              "      <td>None</td>\n",
              "      <td>Single</td>\n",
              "      <td>0xb47e3cd837ddf8e4c57f05d70ab865de6e193bbb</td>\n",
              "      <td>8175</td>\n",
              "      <td>0xb7ef760f30d139097ba547bd6f0dfaecbf148452</td>\n",
              "      <td>0x6bb662ce293b3d0f20826f2059eb3df0c37a3450</td>\n",
              "      <td>1</td>\n",
              "      <td>1</td>\n",
              "      <td>None</td>\n",
              "    </tr>\n",
              "  </tbody>\n",
              "</table>\n",
              "</div>\n",
              "      <button class=\"colab-df-convert\" onclick=\"convertToInteractive('df-a6411ca7-3451-4b5b-95cb-349b86a13e2b')\"\n",
              "              title=\"Convert this dataframe to an interactive table.\"\n",
              "              style=\"display:none;\">\n",
              "        \n",
              "  <svg xmlns=\"http://www.w3.org/2000/svg\" height=\"24px\"viewBox=\"0 0 24 24\"\n",
              "       width=\"24px\">\n",
              "    <path d=\"M0 0h24v24H0V0z\" fill=\"none\"/>\n",
              "    <path d=\"M18.56 5.44l.94 2.06.94-2.06 2.06-.94-2.06-.94-.94-2.06-.94 2.06-2.06.94zm-11 1L8.5 8.5l.94-2.06 2.06-.94-2.06-.94L8.5 2.5l-.94 2.06-2.06.94zm10 10l.94 2.06.94-2.06 2.06-.94-2.06-.94-.94-2.06-.94 2.06-2.06.94z\"/><path d=\"M17.41 7.96l-1.37-1.37c-.4-.4-.92-.59-1.43-.59-.52 0-1.04.2-1.43.59L10.3 9.45l-7.72 7.72c-.78.78-.78 2.05 0 2.83L4 21.41c.39.39.9.59 1.41.59.51 0 1.02-.2 1.41-.59l7.78-7.78 2.81-2.81c.8-.78.8-2.07 0-2.86zM5.41 20L4 18.59l7.72-7.72 1.47 1.35L5.41 20z\"/>\n",
              "  </svg>\n",
              "      </button>\n",
              "      \n",
              "  <style>\n",
              "    .colab-df-container {\n",
              "      display:flex;\n",
              "      flex-wrap:wrap;\n",
              "      gap: 12px;\n",
              "    }\n",
              "\n",
              "    .colab-df-convert {\n",
              "      background-color: #E8F0FE;\n",
              "      border: none;\n",
              "      border-radius: 50%;\n",
              "      cursor: pointer;\n",
              "      display: none;\n",
              "      fill: #1967D2;\n",
              "      height: 32px;\n",
              "      padding: 0 0 0 0;\n",
              "      width: 32px;\n",
              "    }\n",
              "\n",
              "    .colab-df-convert:hover {\n",
              "      background-color: #E2EBFA;\n",
              "      box-shadow: 0px 1px 2px rgba(60, 64, 67, 0.3), 0px 1px 3px 1px rgba(60, 64, 67, 0.15);\n",
              "      fill: #174EA6;\n",
              "    }\n",
              "\n",
              "    [theme=dark] .colab-df-convert {\n",
              "      background-color: #3B4455;\n",
              "      fill: #D2E3FC;\n",
              "    }\n",
              "\n",
              "    [theme=dark] .colab-df-convert:hover {\n",
              "      background-color: #434B5C;\n",
              "      box-shadow: 0px 1px 3px 1px rgba(0, 0, 0, 0.15);\n",
              "      filter: drop-shadow(0px 1px 2px rgba(0, 0, 0, 0.3));\n",
              "      fill: #FFFFFF;\n",
              "    }\n",
              "  </style>\n",
              "\n",
              "      <script>\n",
              "        const buttonEl =\n",
              "          document.querySelector('#df-a6411ca7-3451-4b5b-95cb-349b86a13e2b button.colab-df-convert');\n",
              "        buttonEl.style.display =\n",
              "          google.colab.kernel.accessAllowed ? 'block' : 'none';\n",
              "\n",
              "        async function convertToInteractive(key) {\n",
              "          const element = document.querySelector('#df-a6411ca7-3451-4b5b-95cb-349b86a13e2b');\n",
              "          const dataTable =\n",
              "            await google.colab.kernel.invokeFunction('convertToInteractive',\n",
              "                                                     [key], {});\n",
              "          if (!dataTable) return;\n",
              "\n",
              "          const docLinkHtml = 'Like what you see? Visit the ' +\n",
              "            '<a target=\"_blank\" href=https://colab.research.google.com/notebooks/data_table.ipynb>data table notebook</a>'\n",
              "            + ' to learn more about interactive tables.';\n",
              "          element.innerHTML = '';\n",
              "          dataTable['output_type'] = 'display_data';\n",
              "          await google.colab.output.renderOutput(dataTable, element);\n",
              "          const docLink = document.createElement('div');\n",
              "          docLink.innerHTML = docLinkHtml;\n",
              "          element.appendChild(docLink);\n",
              "        }\n",
              "      </script>\n",
              "    </div>\n",
              "  </div>\n",
              "  "
            ]
          },
          "metadata": {},
          "execution_count": 11
        }
      ],
      "source": [
        "df.head()"
      ]
    },
    {
      "cell_type": "code",
      "execution_count": null,
      "metadata": {
        "colab": {
          "base_uri": "https://localhost:8080/"
        },
        "id": "R1PXgrv349lU",
        "outputId": "0fc711f5-7bc4-42dd-e99a-de64328ada58"
      },
      "outputs": [
        {
          "output_type": "stream",
          "name": "stdout",
          "text": [
            "<class 'pandas.core.frame.DataFrame'>\n",
            "RangeIndex: 100 entries, 0 to 99\n",
            "Data columns (total 16 columns):\n",
            " #   Column             Non-Null Count  Dtype \n",
            "---  ------             --------------  ----- \n",
            " 0   block_number       100 non-null    object\n",
            " 1   block_timestamp    100 non-null    object\n",
            " 2   block_hash         100 non-null    object\n",
            " 3   transaction_hash   100 non-null    object\n",
            " 4   transaction_index  100 non-null    int64 \n",
            " 5   log_index          100 non-null    int64 \n",
            " 6   value              100 non-null    object\n",
            " 7   contract_type      0 non-null      object\n",
            " 8   transaction_type   100 non-null    object\n",
            " 9   token_address      100 non-null    object\n",
            " 10  token_id           100 non-null    object\n",
            " 11  from_address       100 non-null    object\n",
            " 12  to_address         100 non-null    object\n",
            " 13  amount             100 non-null    object\n",
            " 14  verified           100 non-null    int64 \n",
            " 15  operator           0 non-null      object\n",
            "dtypes: int64(3), object(13)\n",
            "memory usage: 12.6+ KB\n"
          ]
        }
      ],
      "source": [
        "df.info()"
      ]
    },
    {
      "cell_type": "code",
      "execution_count": null,
      "metadata": {
        "id": "bg9dTQPE5Vn7"
      },
      "outputs": [],
      "source": [
        "df['value'] = df['value'].astype(\"float64\")"
      ]
    },
    {
      "cell_type": "code",
      "execution_count": null,
      "metadata": {
        "id": "oEfFykmv5GAM"
      },
      "outputs": [],
      "source": [
        "df = df[df['value']!=0]"
      ]
    },
    {
      "cell_type": "code",
      "execution_count": null,
      "metadata": {
        "colab": {
          "base_uri": "https://localhost:8080/"
        },
        "id": "jIDPR09F6Pt7",
        "outputId": "57311334-26b5-491f-e5c2-a83ee21fdb3e"
      },
      "outputs": [
        {
          "output_type": "stream",
          "name": "stdout",
          "text": [
            "<class 'pandas.core.frame.DataFrame'>\n",
            "Int64Index: 35 entries, 0 to 95\n",
            "Data columns (total 16 columns):\n",
            " #   Column             Non-Null Count  Dtype  \n",
            "---  ------             --------------  -----  \n",
            " 0   block_number       35 non-null     object \n",
            " 1   block_timestamp    35 non-null     object \n",
            " 2   block_hash         35 non-null     object \n",
            " 3   transaction_hash   35 non-null     object \n",
            " 4   transaction_index  35 non-null     int64  \n",
            " 5   log_index          35 non-null     int64  \n",
            " 6   value              35 non-null     float64\n",
            " 7   contract_type      0 non-null      object \n",
            " 8   transaction_type   35 non-null     object \n",
            " 9   token_address      35 non-null     object \n",
            " 10  token_id           35 non-null     object \n",
            " 11  from_address       35 non-null     object \n",
            " 12  to_address         35 non-null     object \n",
            " 13  amount             35 non-null     object \n",
            " 14  verified           35 non-null     int64  \n",
            " 15  operator           0 non-null      object \n",
            "dtypes: float64(1), int64(3), object(12)\n",
            "memory usage: 4.6+ KB\n"
          ]
        }
      ],
      "source": [
        "df.info()"
      ]
    },
    {
      "cell_type": "code",
      "execution_count": null,
      "metadata": {
        "colab": {
          "base_uri": "https://localhost:8080/",
          "height": 351
        },
        "id": "fv04fAdf5NUY",
        "outputId": "3f21ed68-ed61-4ebe-ba64-3960c3b78eb6"
      },
      "outputs": [
        {
          "output_type": "execute_result",
          "data": {
            "text/plain": [
              "  block_number           block_timestamp  \\\n",
              "0     16210162  2022-12-18T07:44:47.000Z   \n",
              "1     16208287  2022-12-18T01:26:47.000Z   \n",
              "4     16205427  2022-12-17T15:51:23.000Z   \n",
              "5     16205350  2022-12-17T15:35:59.000Z   \n",
              "8     16200112  2022-12-16T22:03:11.000Z   \n",
              "\n",
              "                                          block_hash  \\\n",
              "0  0x7983c618f6bc94a7b700ca7e84a7c97f4286e8e3377b...   \n",
              "1  0xc5f1bc4300eb1b6b9d39917eed3c7277b82c6ce9bce5...   \n",
              "4  0x0a8d7d0252240600e58f6d7327957d330ef24462a6ae...   \n",
              "5  0xeb8b131e1f55471c11f9a1ebc77a768b630ea08c7fee...   \n",
              "8  0xf3d23bfadf059a232bfce97e66604135299d21548178...   \n",
              "\n",
              "                                    transaction_hash  transaction_index  \\\n",
              "0  0x2097c5220b4d3252c43bc28b65e843198df985d7c7b7...                116   \n",
              "1  0x7f78d3c807e73f8684b818af155dda52cd1a582c141b...                 73   \n",
              "4  0xf1b50fdc8db4b10b0e902cc09bfcc8c36450342c1aff...                 93   \n",
              "5  0xfc11cf3fe63cb6b7bf70503f04eb784f03904d75dbfa...                123   \n",
              "8  0xda6530e6afbb88aac5d5edd5e9d07cd184de1965bc3c...                111   \n",
              "\n",
              "   log_index         value contract_type transaction_type  \\\n",
              "0        215  7.300000e+19          None           Single   \n",
              "1        227  6.795000e+19          None           Single   \n",
              "4        207  8.250000e+19          None           Single   \n",
              "5        186  6.595000e+19          None           Single   \n",
              "8        212  8.000000e+19          None           Single   \n",
              "\n",
              "                                token_address token_id  \\\n",
              "0  0xb47e3cd837ddf8e4c57f05d70ab865de6e193bbb     5335   \n",
              "1  0xb47e3cd837ddf8e4c57f05d70ab865de6e193bbb     8458   \n",
              "4  0xb47e3cd837ddf8e4c57f05d70ab865de6e193bbb     8175   \n",
              "5  0xb47e3cd837ddf8e4c57f05d70ab865de6e193bbb     8602   \n",
              "8  0xb47e3cd837ddf8e4c57f05d70ab865de6e193bbb     5260   \n",
              "\n",
              "                                 from_address  \\\n",
              "0  0x90a2da785f866affa9826895e37b721820b33073   \n",
              "1  0xf6e5d3fdaee3d38ba42b9b0b8c00eb1255ad6038   \n",
              "4  0xb7ef760f30d139097ba547bd6f0dfaecbf148452   \n",
              "5  0x0232d1083e970f0c78f56202b9a666b526fa379f   \n",
              "8  0x2707b8785885be4bf54f5eeb38cfbf0fc70ae039   \n",
              "\n",
              "                                   to_address amount  verified operator  \n",
              "0  0x1919db36ca2fa2e15f9000fd9cdc2edcf863e685      1         1     None  \n",
              "1  0xb30b44dba76a6290e5bd8a29dabd6b9b28355fcf      1         1     None  \n",
              "4  0x6bb662ce293b3d0f20826f2059eb3df0c37a3450      1         1     None  \n",
              "5  0x779fa4e198b4fd876d28df3d6f4ac0c6be9cf7f5      1         1     None  \n",
              "8  0xb3b5544460759611408aed77e5edfd9e2db4dfab      1         1     None  "
            ],
            "text/html": [
              "\n",
              "  <div id=\"df-f4ab624c-7853-4254-9849-edab9cac75e3\">\n",
              "    <div class=\"colab-df-container\">\n",
              "      <div>\n",
              "<style scoped>\n",
              "    .dataframe tbody tr th:only-of-type {\n",
              "        vertical-align: middle;\n",
              "    }\n",
              "\n",
              "    .dataframe tbody tr th {\n",
              "        vertical-align: top;\n",
              "    }\n",
              "\n",
              "    .dataframe thead th {\n",
              "        text-align: right;\n",
              "    }\n",
              "</style>\n",
              "<table border=\"1\" class=\"dataframe\">\n",
              "  <thead>\n",
              "    <tr style=\"text-align: right;\">\n",
              "      <th></th>\n",
              "      <th>block_number</th>\n",
              "      <th>block_timestamp</th>\n",
              "      <th>block_hash</th>\n",
              "      <th>transaction_hash</th>\n",
              "      <th>transaction_index</th>\n",
              "      <th>log_index</th>\n",
              "      <th>value</th>\n",
              "      <th>contract_type</th>\n",
              "      <th>transaction_type</th>\n",
              "      <th>token_address</th>\n",
              "      <th>token_id</th>\n",
              "      <th>from_address</th>\n",
              "      <th>to_address</th>\n",
              "      <th>amount</th>\n",
              "      <th>verified</th>\n",
              "      <th>operator</th>\n",
              "    </tr>\n",
              "  </thead>\n",
              "  <tbody>\n",
              "    <tr>\n",
              "      <th>0</th>\n",
              "      <td>16210162</td>\n",
              "      <td>2022-12-18T07:44:47.000Z</td>\n",
              "      <td>0x7983c618f6bc94a7b700ca7e84a7c97f4286e8e3377b...</td>\n",
              "      <td>0x2097c5220b4d3252c43bc28b65e843198df985d7c7b7...</td>\n",
              "      <td>116</td>\n",
              "      <td>215</td>\n",
              "      <td>7.300000e+19</td>\n",
              "      <td>None</td>\n",
              "      <td>Single</td>\n",
              "      <td>0xb47e3cd837ddf8e4c57f05d70ab865de6e193bbb</td>\n",
              "      <td>5335</td>\n",
              "      <td>0x90a2da785f866affa9826895e37b721820b33073</td>\n",
              "      <td>0x1919db36ca2fa2e15f9000fd9cdc2edcf863e685</td>\n",
              "      <td>1</td>\n",
              "      <td>1</td>\n",
              "      <td>None</td>\n",
              "    </tr>\n",
              "    <tr>\n",
              "      <th>1</th>\n",
              "      <td>16208287</td>\n",
              "      <td>2022-12-18T01:26:47.000Z</td>\n",
              "      <td>0xc5f1bc4300eb1b6b9d39917eed3c7277b82c6ce9bce5...</td>\n",
              "      <td>0x7f78d3c807e73f8684b818af155dda52cd1a582c141b...</td>\n",
              "      <td>73</td>\n",
              "      <td>227</td>\n",
              "      <td>6.795000e+19</td>\n",
              "      <td>None</td>\n",
              "      <td>Single</td>\n",
              "      <td>0xb47e3cd837ddf8e4c57f05d70ab865de6e193bbb</td>\n",
              "      <td>8458</td>\n",
              "      <td>0xf6e5d3fdaee3d38ba42b9b0b8c00eb1255ad6038</td>\n",
              "      <td>0xb30b44dba76a6290e5bd8a29dabd6b9b28355fcf</td>\n",
              "      <td>1</td>\n",
              "      <td>1</td>\n",
              "      <td>None</td>\n",
              "    </tr>\n",
              "    <tr>\n",
              "      <th>4</th>\n",
              "      <td>16205427</td>\n",
              "      <td>2022-12-17T15:51:23.000Z</td>\n",
              "      <td>0x0a8d7d0252240600e58f6d7327957d330ef24462a6ae...</td>\n",
              "      <td>0xf1b50fdc8db4b10b0e902cc09bfcc8c36450342c1aff...</td>\n",
              "      <td>93</td>\n",
              "      <td>207</td>\n",
              "      <td>8.250000e+19</td>\n",
              "      <td>None</td>\n",
              "      <td>Single</td>\n",
              "      <td>0xb47e3cd837ddf8e4c57f05d70ab865de6e193bbb</td>\n",
              "      <td>8175</td>\n",
              "      <td>0xb7ef760f30d139097ba547bd6f0dfaecbf148452</td>\n",
              "      <td>0x6bb662ce293b3d0f20826f2059eb3df0c37a3450</td>\n",
              "      <td>1</td>\n",
              "      <td>1</td>\n",
              "      <td>None</td>\n",
              "    </tr>\n",
              "    <tr>\n",
              "      <th>5</th>\n",
              "      <td>16205350</td>\n",
              "      <td>2022-12-17T15:35:59.000Z</td>\n",
              "      <td>0xeb8b131e1f55471c11f9a1ebc77a768b630ea08c7fee...</td>\n",
              "      <td>0xfc11cf3fe63cb6b7bf70503f04eb784f03904d75dbfa...</td>\n",
              "      <td>123</td>\n",
              "      <td>186</td>\n",
              "      <td>6.595000e+19</td>\n",
              "      <td>None</td>\n",
              "      <td>Single</td>\n",
              "      <td>0xb47e3cd837ddf8e4c57f05d70ab865de6e193bbb</td>\n",
              "      <td>8602</td>\n",
              "      <td>0x0232d1083e970f0c78f56202b9a666b526fa379f</td>\n",
              "      <td>0x779fa4e198b4fd876d28df3d6f4ac0c6be9cf7f5</td>\n",
              "      <td>1</td>\n",
              "      <td>1</td>\n",
              "      <td>None</td>\n",
              "    </tr>\n",
              "    <tr>\n",
              "      <th>8</th>\n",
              "      <td>16200112</td>\n",
              "      <td>2022-12-16T22:03:11.000Z</td>\n",
              "      <td>0xf3d23bfadf059a232bfce97e66604135299d21548178...</td>\n",
              "      <td>0xda6530e6afbb88aac5d5edd5e9d07cd184de1965bc3c...</td>\n",
              "      <td>111</td>\n",
              "      <td>212</td>\n",
              "      <td>8.000000e+19</td>\n",
              "      <td>None</td>\n",
              "      <td>Single</td>\n",
              "      <td>0xb47e3cd837ddf8e4c57f05d70ab865de6e193bbb</td>\n",
              "      <td>5260</td>\n",
              "      <td>0x2707b8785885be4bf54f5eeb38cfbf0fc70ae039</td>\n",
              "      <td>0xb3b5544460759611408aed77e5edfd9e2db4dfab</td>\n",
              "      <td>1</td>\n",
              "      <td>1</td>\n",
              "      <td>None</td>\n",
              "    </tr>\n",
              "  </tbody>\n",
              "</table>\n",
              "</div>\n",
              "      <button class=\"colab-df-convert\" onclick=\"convertToInteractive('df-f4ab624c-7853-4254-9849-edab9cac75e3')\"\n",
              "              title=\"Convert this dataframe to an interactive table.\"\n",
              "              style=\"display:none;\">\n",
              "        \n",
              "  <svg xmlns=\"http://www.w3.org/2000/svg\" height=\"24px\"viewBox=\"0 0 24 24\"\n",
              "       width=\"24px\">\n",
              "    <path d=\"M0 0h24v24H0V0z\" fill=\"none\"/>\n",
              "    <path d=\"M18.56 5.44l.94 2.06.94-2.06 2.06-.94-2.06-.94-.94-2.06-.94 2.06-2.06.94zm-11 1L8.5 8.5l.94-2.06 2.06-.94-2.06-.94L8.5 2.5l-.94 2.06-2.06.94zm10 10l.94 2.06.94-2.06 2.06-.94-2.06-.94-.94-2.06-.94 2.06-2.06.94z\"/><path d=\"M17.41 7.96l-1.37-1.37c-.4-.4-.92-.59-1.43-.59-.52 0-1.04.2-1.43.59L10.3 9.45l-7.72 7.72c-.78.78-.78 2.05 0 2.83L4 21.41c.39.39.9.59 1.41.59.51 0 1.02-.2 1.41-.59l7.78-7.78 2.81-2.81c.8-.78.8-2.07 0-2.86zM5.41 20L4 18.59l7.72-7.72 1.47 1.35L5.41 20z\"/>\n",
              "  </svg>\n",
              "      </button>\n",
              "      \n",
              "  <style>\n",
              "    .colab-df-container {\n",
              "      display:flex;\n",
              "      flex-wrap:wrap;\n",
              "      gap: 12px;\n",
              "    }\n",
              "\n",
              "    .colab-df-convert {\n",
              "      background-color: #E8F0FE;\n",
              "      border: none;\n",
              "      border-radius: 50%;\n",
              "      cursor: pointer;\n",
              "      display: none;\n",
              "      fill: #1967D2;\n",
              "      height: 32px;\n",
              "      padding: 0 0 0 0;\n",
              "      width: 32px;\n",
              "    }\n",
              "\n",
              "    .colab-df-convert:hover {\n",
              "      background-color: #E2EBFA;\n",
              "      box-shadow: 0px 1px 2px rgba(60, 64, 67, 0.3), 0px 1px 3px 1px rgba(60, 64, 67, 0.15);\n",
              "      fill: #174EA6;\n",
              "    }\n",
              "\n",
              "    [theme=dark] .colab-df-convert {\n",
              "      background-color: #3B4455;\n",
              "      fill: #D2E3FC;\n",
              "    }\n",
              "\n",
              "    [theme=dark] .colab-df-convert:hover {\n",
              "      background-color: #434B5C;\n",
              "      box-shadow: 0px 1px 3px 1px rgba(0, 0, 0, 0.15);\n",
              "      filter: drop-shadow(0px 1px 2px rgba(0, 0, 0, 0.3));\n",
              "      fill: #FFFFFF;\n",
              "    }\n",
              "  </style>\n",
              "\n",
              "      <script>\n",
              "        const buttonEl =\n",
              "          document.querySelector('#df-f4ab624c-7853-4254-9849-edab9cac75e3 button.colab-df-convert');\n",
              "        buttonEl.style.display =\n",
              "          google.colab.kernel.accessAllowed ? 'block' : 'none';\n",
              "\n",
              "        async function convertToInteractive(key) {\n",
              "          const element = document.querySelector('#df-f4ab624c-7853-4254-9849-edab9cac75e3');\n",
              "          const dataTable =\n",
              "            await google.colab.kernel.invokeFunction('convertToInteractive',\n",
              "                                                     [key], {});\n",
              "          if (!dataTable) return;\n",
              "\n",
              "          const docLinkHtml = 'Like what you see? Visit the ' +\n",
              "            '<a target=\"_blank\" href=https://colab.research.google.com/notebooks/data_table.ipynb>data table notebook</a>'\n",
              "            + ' to learn more about interactive tables.';\n",
              "          element.innerHTML = '';\n",
              "          dataTable['output_type'] = 'display_data';\n",
              "          await google.colab.output.renderOutput(dataTable, element);\n",
              "          const docLink = document.createElement('div');\n",
              "          docLink.innerHTML = docLinkHtml;\n",
              "          element.appendChild(docLink);\n",
              "        }\n",
              "      </script>\n",
              "    </div>\n",
              "  </div>\n",
              "  "
            ]
          },
          "metadata": {},
          "execution_count": 16
        }
      ],
      "source": [
        "df.head()"
      ]
    },
    {
      "cell_type": "code",
      "execution_count": null,
      "metadata": {
        "colab": {
          "base_uri": "https://localhost:8080/"
        },
        "id": "7FfJhD3dOz10",
        "outputId": "f61fadab-07a0-4d24-d82c-4b3a9bbecbb4"
      },
      "outputs": [
        {
          "output_type": "stream",
          "name": "stdout",
          "text": [
            "16 December 2022\n"
          ]
        }
      ],
      "source": [
        "date = \"2022-12-16T03:25:59.000Z\"\n",
        "date = date[:10]\n",
        "print(((datetime.datetime.fromisoformat(date)).strftime(\"%d\")),(datetime.datetime.fromisoformat(date)).strftime(\"%B\"),((datetime.datetime.fromisoformat(date)).strftime(\"%Y\")))"
      ]
    },
    {
      "cell_type": "code",
      "execution_count": null,
      "metadata": {
        "id": "nD5nrMBfOW7t"
      },
      "outputs": [],
      "source": [
        "def datename(x):\n",
        "    x = x[:10]\n",
        "    return str((datetime.datetime.fromisoformat(x)).strftime(\"%d\"))+\" \"+(datetime.datetime.fromisoformat(x)).strftime(\"%B\")+\" \"+((datetime.datetime.fromisoformat(x)).strftime(\"%Y\"))"
      ]
    },
    {
      "cell_type": "code",
      "execution_count": null,
      "metadata": {
        "colab": {
          "base_uri": "https://localhost:8080/",
          "height": 35
        },
        "id": "szx6ZZVqW54j",
        "outputId": "3cdc3295-43ba-42cc-ba50-42a6c4821715"
      },
      "outputs": [
        {
          "output_type": "execute_result",
          "data": {
            "text/plain": [
              "'16 December 2022'"
            ],
            "application/vnd.google.colaboratory.intrinsic+json": {
              "type": "string"
            }
          },
          "metadata": {},
          "execution_count": 19
        }
      ],
      "source": [
        "datename(\"2022-12-16T03:25:59.000Z\")"
      ]
    },
    {
      "cell_type": "code",
      "execution_count": null,
      "metadata": {
        "id": "MwnaMknbXYc0"
      },
      "outputs": [],
      "source": [
        "df['date'] = df['block_timestamp'].apply(datename)"
      ]
    },
    {
      "cell_type": "code",
      "execution_count": null,
      "metadata": {
        "colab": {
          "base_uri": "https://localhost:8080/"
        },
        "id": "ljunkcItXit5",
        "outputId": "ff35958a-3a98-47aa-fa2c-39e83460aff1"
      },
      "outputs": [
        {
          "output_type": "execute_result",
          "data": {
            "text/plain": [
              "0     18 December 2022\n",
              "1     18 December 2022\n",
              "4     17 December 2022\n",
              "5     17 December 2022\n",
              "8     16 December 2022\n",
              "15    15 December 2022\n",
              "18    15 December 2022\n",
              "21    15 December 2022\n",
              "28    14 December 2022\n",
              "30    14 December 2022\n",
              "32    14 December 2022\n",
              "33    14 December 2022\n",
              "35    14 December 2022\n",
              "36    13 December 2022\n",
              "42    13 December 2022\n",
              "43    13 December 2022\n",
              "44    13 December 2022\n",
              "48    13 December 2022\n",
              "51    13 December 2022\n",
              "52    13 December 2022\n",
              "53    13 December 2022\n",
              "54    13 December 2022\n",
              "59    13 December 2022\n",
              "62    12 December 2022\n",
              "63    12 December 2022\n",
              "64    12 December 2022\n",
              "74    12 December 2022\n",
              "76    12 December 2022\n",
              "77    11 December 2022\n",
              "83    11 December 2022\n",
              "86    11 December 2022\n",
              "90    10 December 2022\n",
              "92    10 December 2022\n",
              "94    10 December 2022\n",
              "95    10 December 2022\n",
              "Name: date, dtype: object"
            ]
          },
          "metadata": {},
          "execution_count": 21
        }
      ],
      "source": [
        "df['date']"
      ]
    },
    {
      "cell_type": "code",
      "execution_count": null,
      "metadata": {
        "id": "0wkCxKtIoN1G"
      },
      "outputs": [],
      "source": [
        "df.drop(columns=['block_number','block_timestamp','block_hash','transaction_hash','transaction_index','log_index','contract_type','transaction_type','token_address','token_id','from_address','to_address','amount','verified','operator'],axis=1,inplace=True)"
      ]
    },
    {
      "cell_type": "code",
      "execution_count": null,
      "metadata": {
        "id": "ekNcG2--qTPX"
      },
      "outputs": [],
      "source": [
        "df['value'] /= 10000000000000000"
      ]
    },
    {
      "cell_type": "code",
      "execution_count": null,
      "metadata": {
        "colab": {
          "base_uri": "https://localhost:8080/",
          "height": 201
        },
        "id": "fmjcnHXBqAak",
        "outputId": "b90a264f-f29d-45a3-bbb0-1130d5c1a9a6"
      },
      "outputs": [
        {
          "output_type": "execute_result",
          "data": {
            "text/plain": [
              "    value              date\n",
              "0  7300.0  18 December 2022\n",
              "1  6795.0  18 December 2022\n",
              "4  8250.0  17 December 2022\n",
              "5  6595.0  17 December 2022\n",
              "8  8000.0  16 December 2022"
            ],
            "text/html": [
              "\n",
              "  <div id=\"df-613f5373-7fb2-4f9e-83a7-3b5a38299c4e\">\n",
              "    <div class=\"colab-df-container\">\n",
              "      <div>\n",
              "<style scoped>\n",
              "    .dataframe tbody tr th:only-of-type {\n",
              "        vertical-align: middle;\n",
              "    }\n",
              "\n",
              "    .dataframe tbody tr th {\n",
              "        vertical-align: top;\n",
              "    }\n",
              "\n",
              "    .dataframe thead th {\n",
              "        text-align: right;\n",
              "    }\n",
              "</style>\n",
              "<table border=\"1\" class=\"dataframe\">\n",
              "  <thead>\n",
              "    <tr style=\"text-align: right;\">\n",
              "      <th></th>\n",
              "      <th>value</th>\n",
              "      <th>date</th>\n",
              "    </tr>\n",
              "  </thead>\n",
              "  <tbody>\n",
              "    <tr>\n",
              "      <th>0</th>\n",
              "      <td>7300.0</td>\n",
              "      <td>18 December 2022</td>\n",
              "    </tr>\n",
              "    <tr>\n",
              "      <th>1</th>\n",
              "      <td>6795.0</td>\n",
              "      <td>18 December 2022</td>\n",
              "    </tr>\n",
              "    <tr>\n",
              "      <th>4</th>\n",
              "      <td>8250.0</td>\n",
              "      <td>17 December 2022</td>\n",
              "    </tr>\n",
              "    <tr>\n",
              "      <th>5</th>\n",
              "      <td>6595.0</td>\n",
              "      <td>17 December 2022</td>\n",
              "    </tr>\n",
              "    <tr>\n",
              "      <th>8</th>\n",
              "      <td>8000.0</td>\n",
              "      <td>16 December 2022</td>\n",
              "    </tr>\n",
              "  </tbody>\n",
              "</table>\n",
              "</div>\n",
              "      <button class=\"colab-df-convert\" onclick=\"convertToInteractive('df-613f5373-7fb2-4f9e-83a7-3b5a38299c4e')\"\n",
              "              title=\"Convert this dataframe to an interactive table.\"\n",
              "              style=\"display:none;\">\n",
              "        \n",
              "  <svg xmlns=\"http://www.w3.org/2000/svg\" height=\"24px\"viewBox=\"0 0 24 24\"\n",
              "       width=\"24px\">\n",
              "    <path d=\"M0 0h24v24H0V0z\" fill=\"none\"/>\n",
              "    <path d=\"M18.56 5.44l.94 2.06.94-2.06 2.06-.94-2.06-.94-.94-2.06-.94 2.06-2.06.94zm-11 1L8.5 8.5l.94-2.06 2.06-.94-2.06-.94L8.5 2.5l-.94 2.06-2.06.94zm10 10l.94 2.06.94-2.06 2.06-.94-2.06-.94-.94-2.06-.94 2.06-2.06.94z\"/><path d=\"M17.41 7.96l-1.37-1.37c-.4-.4-.92-.59-1.43-.59-.52 0-1.04.2-1.43.59L10.3 9.45l-7.72 7.72c-.78.78-.78 2.05 0 2.83L4 21.41c.39.39.9.59 1.41.59.51 0 1.02-.2 1.41-.59l7.78-7.78 2.81-2.81c.8-.78.8-2.07 0-2.86zM5.41 20L4 18.59l7.72-7.72 1.47 1.35L5.41 20z\"/>\n",
              "  </svg>\n",
              "      </button>\n",
              "      \n",
              "  <style>\n",
              "    .colab-df-container {\n",
              "      display:flex;\n",
              "      flex-wrap:wrap;\n",
              "      gap: 12px;\n",
              "    }\n",
              "\n",
              "    .colab-df-convert {\n",
              "      background-color: #E8F0FE;\n",
              "      border: none;\n",
              "      border-radius: 50%;\n",
              "      cursor: pointer;\n",
              "      display: none;\n",
              "      fill: #1967D2;\n",
              "      height: 32px;\n",
              "      padding: 0 0 0 0;\n",
              "      width: 32px;\n",
              "    }\n",
              "\n",
              "    .colab-df-convert:hover {\n",
              "      background-color: #E2EBFA;\n",
              "      box-shadow: 0px 1px 2px rgba(60, 64, 67, 0.3), 0px 1px 3px 1px rgba(60, 64, 67, 0.15);\n",
              "      fill: #174EA6;\n",
              "    }\n",
              "\n",
              "    [theme=dark] .colab-df-convert {\n",
              "      background-color: #3B4455;\n",
              "      fill: #D2E3FC;\n",
              "    }\n",
              "\n",
              "    [theme=dark] .colab-df-convert:hover {\n",
              "      background-color: #434B5C;\n",
              "      box-shadow: 0px 1px 3px 1px rgba(0, 0, 0, 0.15);\n",
              "      filter: drop-shadow(0px 1px 2px rgba(0, 0, 0, 0.3));\n",
              "      fill: #FFFFFF;\n",
              "    }\n",
              "  </style>\n",
              "\n",
              "      <script>\n",
              "        const buttonEl =\n",
              "          document.querySelector('#df-613f5373-7fb2-4f9e-83a7-3b5a38299c4e button.colab-df-convert');\n",
              "        buttonEl.style.display =\n",
              "          google.colab.kernel.accessAllowed ? 'block' : 'none';\n",
              "\n",
              "        async function convertToInteractive(key) {\n",
              "          const element = document.querySelector('#df-613f5373-7fb2-4f9e-83a7-3b5a38299c4e');\n",
              "          const dataTable =\n",
              "            await google.colab.kernel.invokeFunction('convertToInteractive',\n",
              "                                                     [key], {});\n",
              "          if (!dataTable) return;\n",
              "\n",
              "          const docLinkHtml = 'Like what you see? Visit the ' +\n",
              "            '<a target=\"_blank\" href=https://colab.research.google.com/notebooks/data_table.ipynb>data table notebook</a>'\n",
              "            + ' to learn more about interactive tables.';\n",
              "          element.innerHTML = '';\n",
              "          dataTable['output_type'] = 'display_data';\n",
              "          await google.colab.output.renderOutput(dataTable, element);\n",
              "          const docLink = document.createElement('div');\n",
              "          docLink.innerHTML = docLinkHtml;\n",
              "          element.appendChild(docLink);\n",
              "        }\n",
              "      </script>\n",
              "    </div>\n",
              "  </div>\n",
              "  "
            ]
          },
          "metadata": {},
          "execution_count": 24
        }
      ],
      "source": [
        "df.head()"
      ]
    },
    {
      "cell_type": "markdown",
      "source": [
        "###**Plotting the Data**"
      ],
      "metadata": {
        "id": "Z7LpIpKuMqpA"
      }
    },
    {
      "cell_type": "code",
      "execution_count": null,
      "metadata": {
        "colab": {
          "base_uri": "https://localhost:8080/",
          "height": 378
        },
        "id": "jW3u735-bJcf",
        "outputId": "4220dcf0-fc51-4f63-8adf-b406a199650e"
      },
      "outputs": [
        {
          "output_type": "execute_result",
          "data": {
            "text/plain": [
              "Text(0.5, 0, 'Dates')"
            ]
          },
          "metadata": {},
          "execution_count": 27
        },
        {
          "output_type": "display_data",
          "data": {
            "text/plain": [
              "<Figure size 720x720 with 2 Axes>"
            ],
            "image/png": "[encoded data removed]"
          },
          "metadata": {}
        }
      ],
      "source": [
        "fig0,ax0 = plt.subplots()\n",
        "\n",
        "ax1 = ax0.twinx()\n",
        "\n",
        "plt.style.use('dark_background')\n",
        "\n",
        "ax0 = df.groupby([\"date\"]).sum().plot(kind='bar',figsize=(10,10),color='#5FE88D', ax=ax0)\n",
        "\n",
        "ax0.spines['right'].set_visible(False)\n",
        "ax0.spines['top'].set_visible(False)\n",
        "ax0.spines['left'].set_visible(False)\n",
        "ax0.spines['bottom'].set_visible(False)\n",
        "ax0.set_ylabel(\"Price in ETH\",size=15 ,fontweight= 'bold')\n",
        "\n",
        "ax1 = df.groupby([\"date\"]).mean().plot(kind='line',figsize=(10,10),color='white',style ='o-',ax=ax1)\n",
        "\n",
        "ax1.spines['right'].set_visible(False)\n",
        "ax1.spines['top'].set_visible(False)\n",
        "ax1.spines['left'].set_visible(False)\n",
        "ax1.spines['bottom'].set_visible(False)\n",
        "ax0.set_xlabel(\"Dates\",size=15 ,fontweight= 'bold')\n",
        "#plt.show()"
      ]
    },
    {
      "cell_type": "markdown",
      "source": [
        "###**Building an interface using Gradio**"
      ],
      "metadata": {
        "id": "aBhbBZohOab_"
      }
    },
    {
      "cell_type": "code",
      "source": [
        "def plot_pens(Contract_Address):\n",
        "\n",
        "    cursor = ''\n",
        "    df = pd.DataFrame\n",
        "\n",
        "    for i in range(5):\n",
        "        result = evm_api.nft.get_nft_contract_transfers(api_key=api_key,params={    \"address\": Contract_Address,     \"chain\": \"eth\" , \"cursor\": cursor} )\n",
        "        \n",
        "        cursor = result['cursor']\n",
        "        df_cursor = pd.json_normalize(result['result'])\n",
        "\n",
        "        if df.empty:\n",
        "            df = df_cursor\n",
        "        else:\n",
        "            df= pd.concat([df,df_cursor])\n",
        "    \n",
        "        time.sleep(1.1)\n",
        "\n",
        "    df['value'] = df['value'].astype(\"float64\")\n",
        "    df = df[df['value']!=0]\n",
        "\n",
        "    df['date'] = df['block_timestamp'].apply(datename)\n",
        "\n",
        "    df.drop(columns=['block_number','block_timestamp','block_hash','transaction_hash','transaction_index','log_index','contract_type','transaction_type','token_address','token_id','from_address','to_address','amount','verified','operator'],axis=1,inplace=True)    \n",
        "    \n",
        "    df['value'] /= 10000000000000000\n",
        "\n",
        "    fig0,ax0 = plt.subplots()\n",
        "    ax1 = ax0.twinx()\n",
        "\n",
        "    plt.style.use('dark_background')\n",
        "\n",
        "    ax0 = df.groupby([\"date\"]).sum().plot(kind='bar',figsize=(15,15), color= '#5FE88D', ax=ax0)\n",
        "\n",
        "    ax0.spines['right'].set_visible(False)\n",
        "    ax0.spines['top'].set_visible(False)\n",
        "    ax0.spines['left'].set_visible(False)\n",
        "    ax0.spines['bottom'].set_visible(False)\n",
        "    ax0.set_ylabel(\"Price in ETH\",size=15 ,fontweight= 'bold')\n",
        "\n",
        "    ax1 = df.groupby([\"date\"]).mean().plot(kind='line',figsize=(15,15),color='white',style ='o-',ax=ax1)\n",
        "\n",
        "    ax1.spines['right'].set_visible(False)\n",
        "    ax1.spines['top'].set_visible(False)\n",
        "    ax1.spines['left'].set_visible(False)\n",
        "    ax1.spines['bottom'].set_visible(False)\n",
        "    ax0.set_xlabel(\"Dates\",size=15 ,fontweight= 'bold')\n",
        "    return fig0\n",
        "\n",
        "\n",
        "iface = gr.Interface(\n",
        "    fn=plot_pens, \n",
        "    layout='vertical',\n",
        "    inputs= 'text',\n",
        "    outputs=['plot'],\n",
        "    title=\"CryptoKnight\",\n",
        "    description=\"Please Enter the Contract Address of the NFT which you want to analyze\",\n",
        "    theme='peach'\n",
        ").launch()"
      ],
      "metadata": {
        "colab": {
          "base_uri": "https://localhost:8080/",
          "height": 898
        },
        "id": "ll3ciJBjUvYW",
        "outputId": "27176588-8d35-43f6-8283-e90e877a0ebf"
      },
      "execution_count": 37,
      "outputs": [
        {
          "output_type": "stream",
          "name": "stderr",
          "text": [
            "/usr/local/lib/python3.8/dist-packages/gradio/deprecation.py:40: UserWarning: `layout` parameter is deprecated, and it has no effect\n",
            "  warnings.warn(value)\n",
            "/usr/local/lib/python3.8/dist-packages/gradio/interface.py:332: UserWarning: Currently, only the 'default' theme is supported.\n",
            "  warnings.warn(\"Currently, only the 'default' theme is supported.\")\n"
          ]
        },
        {
          "output_type": "stream",
          "name": "stdout",
          "text": [
            "Colab notebook detected. To show errors in colab notebook, set `debug=True` in `launch()`\n",
            "Note: opening Chrome Inspector may crash demo inside Colab notebooks.\n",
            "\n",
            "To create a public link, set `share=True` in `launch()`.\n"
          ]
        },
        {
          "output_type": "display_data",
          "data": {
            "text/plain": [
              "<IPython.core.display.Javascript object>"
            ],
            "application/javascript": [
              "(async (port, path, width, height, cache, element) => {\n",
              "                        if (!google.colab.kernel.accessAllowed && !cache) {\n",
              "                            return;\n",
              "                        }\n",
              "                        element.appendChild(document.createTextNode(''));\n",
              "                        const url = await google.colab.kernel.proxyPort(port, {cache});\n",
              "\n",
              "                        const external_link = document.createElement('div');\n",
              "                        external_link.innerHTML = `\n",
              "                            <div style=\"font-family: monospace; margin-bottom: 0.5rem\">\n",
              "                                Running on <a href=${new URL(path, url).toString()} target=\"_blank\">\n",
              "                                    https://localhost:${port}${path}\n",
              "                                </a>\n",
              "                            </div>\n",
              "                        `;\n",
              "                        element.appendChild(external_link);\n",
              "\n",
              "                        const iframe = document.createElement('iframe');\n",
              "                        iframe.src = new URL(path, url).toString();\n",
              "                        iframe.height = height;\n",
              "                        iframe.allow = \"autoplay; camera; microphone; clipboard-read; clipboard-write;\"\n",
              "                        iframe.width = width;\n",
              "                        iframe.style.border = 0;\n",
              "                        element.appendChild(iframe);\n",
              "                    })(7865, \"/\", \"100%\", 500, false, window.element)"
            ]
          },
          "metadata": {}
        }
      ]
    }
  ],
  "metadata": {
    "colab": {
      "provenance": []
    },
    "kernelspec": {
      "display_name": "Python 3",
      "name": "python3"
    },
    "language_info": {
      "name": "python"
    }
  },
  "nbformat": 4,
  "nbformat_minor": 0
}